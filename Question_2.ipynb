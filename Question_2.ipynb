{
 "cells": [
  {
   "cell_type": "code",
   "execution_count": 18,
   "metadata": {},
   "outputs": [],
   "source": [
    "#Question 2.1\n",
    "\n",
    "%matplotlib inline\n",
    "import numpy as np\n",
    "import pandas as pd\n",
    "import statsmodels.api as sm\n",
    "import statsmodels.formula.api as smf\n",
    "import matplotlib.pyplot as plt\n"
   ]
  },
  {
   "cell_type": "code",
   "execution_count": null,
   "metadata": {
    "collapsed": true
   },
   "outputs": [],
   "source": [
    "acd_df = pd.read_csv('Accidents0514.csv')\n",
    "vec_df = pd.read_csv('Vehicles0514.csv')\n",
    "cas_df = pd.read_csv('Casualties0514.csv')"
   ]
  },
  {
   "cell_type": "code",
   "execution_count": 3,
   "metadata": {
    "collapsed": true
   },
   "outputs": [
    {
     "name": "stdout",
     "output_type": "stream",
     "text": [
      "0.6426569109\n"
     ]
    }
   ],
   "source": [
    "#Number of accidents occured in urban areas\n",
    "urban_count = acd_df['Urban_or_Rural_Area'][(acd_df['Urban_or_Rural_Area'] == 1)].value_counts()\n",
    "\n",
    "# fraction of accidents occur in urban areas: 0.64265691087\n",
    "print ('%.10f' % (urban_count[1]/len(acd_df)))"
   ]
  },
  {
   "cell_type": "code",
   "execution_count": 4,
   "metadata": {
    "collapsed": true
   },
   "outputs": [
    {
     "name": "stdout",
     "output_type": "stream",
     "text": [
      "0.8808645681\n"
     ]
    }
   ],
   "source": [
    "#Question 2.2\n",
    "acd_df['Hours'] = acd_df['Time'].str[:2] #Extract hours\n",
    "hour_count = (acd_df['Hours'].value_counts()).sort_index() #Total accident occured at different hours\n",
    "hour_count_fatal = (acd_df['Hours'][(acd_df['Accident_Severity'] == 3)].value_counts()).sort_index() #Fatal accident occured in different hours\n",
    "danger = (hour_count_fatal / hour_count).sort_values(ascending=False) #corresponding frequency of fatal accidents to all accidents in different hour\n",
    "print ('%.10f' % danger[1]) # the most dangerous time to drive is 8am with a fatal frequancy of 0.8808645681"
   ]
  },
  {
   "cell_type": "code",
   "execution_count": 5,
   "metadata": {
    "collapsed": true
   },
   "outputs": [
    {
     "name": "stdout",
     "output_type": "stream",
     "text": [
      "-6511.7272727273\n"
     ]
    }
   ],
   "source": [
    "# Question 2.3\n",
    "\n",
    "acd_df['Year2'] = acd_df['Date'].str[-4:] #Extract years\n",
    "year_count = (acd_df['Year2'].value_counts()).sort_index() #Total accident in dif years\n",
    "year_count = year_count.reset_index() \n",
    "year_count.columns = ['Year','Count']\n",
    "#Find the slope\n",
    "def trend(count, order=1):\n",
    "    coeff = np.polyfit(year_count.index.values, list(count), order)\n",
    "    slope = coeff[-2]\n",
    "    return float(slope)\n",
    "\n",
    "slope = trend(year_count['Count'])\n",
    "print ('%.10f' %slope) #the slope in units of increased number of accidents per year"
   ]
  },
  {
   "cell_type": "code",
   "execution_count": 6,
   "metadata": {
    "collapsed": true
   },
   "outputs": [
    {
     "data": {
      "text/plain": [
       "0.96593905551148218"
      ]
     },
     "execution_count": 6,
     "metadata": {},
     "output_type": "execute_result"
    }
   ],
   "source": [
    "#Question 2.4\n",
    "spd_count = acd_df['Speed_limit'].value_counts().sort_index()\n",
    "spd_count = spd_count.reset_index()\n",
    "spd_count.columns = ['Speed','Count']\n",
    "report = acd_df.groupby(['Speed_limit']).sum()\n",
    "casualty = pd.Series(report['Number_of_Casualties'])\n",
    "spd_count['Casualty'] = list(casualty) \n",
    "spd_count['ratio'] = spd_count['Casualty'] / spd_count['Count']\n",
    "spd_count.corr()['Speed']['ratio']"
   ]
  },
  {
   "cell_type": "code",
   "execution_count": 8,
   "metadata": {
    "collapsed": true
   },
   "outputs": [
    {
     "name": "stdout",
     "output_type": "stream",
     "text": [
      "1.7297218188\n"
     ]
    }
   ],
   "source": [
    "#Question 2.5\n",
    "merged = pd.merge(vec_df,acd_df,left_on = 'Accident_Index', right_on = 'Accident_Index', sort = False)\n",
    "\n",
    "#Skid and overturn report of all accidents when it's raining or snowing \n",
    "bad_weather = merged['Skidding_and_Overturning'][(merged['Weather_Conditions'] < 6 ) \n",
    "                                                 & (merged['Weather_Conditions'] > 1 )].value_counts().sort_index()\n",
    "\n",
    "#Skid and overturn report of all accidents in nice weather with no high winds\n",
    "good_weather = merged['Skidding_and_Overturning'][(merged['Weather_Conditions'] == 1)].value_counts().sort_index()\n",
    "\n",
    "answer2_5 = (bad_weather[2:].sum()/bad_weather.sum())/(good_weather[2:].sum()/good_weather.sum())\n",
    "print ('%.10f' %answer2_5) #Times difference is 1.7297218188"
   ]
  },
  {
   "cell_type": "code",
   "execution_count": 9,
   "metadata": {
    "collapsed": true
   },
   "outputs": [
    {
     "name": "stdout",
     "output_type": "stream",
     "text": [
      "2.1317211281\n"
     ]
    }
   ],
   "source": [
    "#Question 2.6\n",
    "sex = cas_df['Sex_of_Casualty'].value_counts().sort_index()\n",
    "fatal = cas_df['Sex_of_Casualty'][(cas_df['Casualty_Severity'] == 1)].value_counts().sort_index()\n",
    "male_fatal = fatal[1]/sex[1]\n",
    "female_fatal = fatal[2]/sex[2]\n",
    "answer2_6 = male_fatal/female_fatal\n",
    "print ('%.10f' %answer2_6) #Times difference is 2.1317211281"
   ]
  },
  {
   "cell_type": "code",
   "execution_count": 10,
   "metadata": {
    "collapsed": true
   },
   "outputs": [
    {
     "data": {
      "text/plain": [
       "25167.124351883431"
      ]
     },
     "execution_count": 10,
     "metadata": {},
     "output_type": "execute_result"
    }
   ],
   "source": [
    "#Question 2.7\n",
    "acd = acd_df.groupby(['Police_Force'])\n",
    "long_std = acd['Longitude'].std()\n",
    "lat_std = acd['Latitude'].std()\n",
    "\n",
    "import math\n",
    "trans = lat_std.apply(math.cos) \n",
    "max_area = (lat_std * 110.574) * (long_std * 111.320 * trans) * math.pi\n",
    "max_area.max() # The largest district is 91 with area of 25167.124351883431 square kilometers"
   ]
  },
  {
   "cell_type": "code",
   "execution_count": 11,
   "metadata": {},
   "outputs": [
    {
     "name": "stdout",
     "output_type": "stream",
     "text": [
      "(array([  1.35945192e+05,   3.61883668e-02]), array([[  2.42916898e+07,   4.85493567e+00],\n",
      "       [  4.85493567e+00,   1.14639027e-06]]))\n",
      "0.0361883668\n"
     ]
    }
   ],
   "source": [
    "#Questions 2.8\n",
    "age = cas_df['Age_of_Casualty'].value_counts().sort_index()    #pull age/accident data\n",
    "age = age[19:]       #Filter our data below age 18\n",
    "\n",
    "#Find the exponential fitting curve for the data\n",
    "x = np.array(age.index.values, dtype=float)\n",
    "y = np.array(age.values, dtype=float)\n",
    "def model(x,a,b):\n",
    "    return a*np.exp(-b*x) #b is the decay rate we are looking for based on definition\n",
    "\n",
    "import scipy\n",
    "curve = scipy.optimize.curve_fit(model, x, y, p0 = (1, 1e-5))\n",
    "print (curve)\n",
    "print ('%.10f' %curve[0][1]) #the decay rate 'b' is 0.0361883668"
   ]
  },
  {
   "cell_type": "code",
   "execution_count": null,
   "metadata": {
    "collapsed": true
   },
   "outputs": [],
   "source": []
  }
 ],
 "metadata": {
  "kernelspec": {
   "display_name": "Python 3",
   "language": "python",
   "name": "python3"
  },
  "language_info": {
   "codemirror_mode": {
    "name": "ipython",
    "version": 3
   },
   "file_extension": ".py",
   "mimetype": "text/x-python",
   "name": "python",
   "nbconvert_exporter": "python",
   "pygments_lexer": "ipython3",
   "version": "3.6.2"
  }
 },
 "nbformat": 4,
 "nbformat_minor": 2
}
