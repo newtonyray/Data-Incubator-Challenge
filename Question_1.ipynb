{
 "cells": [
  {
   "cell_type": "code",
   "execution_count": 457,
   "metadata": {
    "collapsed": true
   },
   "outputs": [
    {
     "name": "stdout",
     "output_type": "stream",
     "text": [
      "119.9988900000\n",
      "5.9929200000\n",
      "3.7403435502\n"
     ]
    }
   ],
   "source": [
    "import numpy as np\n",
    "import pandas as pd\n",
    "import random as random\n",
    "\n",
    "#Question 1.1 and 1.2\n",
    "p = np.arange(16).reshape(4,4)\n",
    "m,s,cor_a,cor_b = 0\n",
    "K = list() #List of sum after T=16 moves\n",
    "K2 = list() #List of sum after T=512 moves\n",
    "moves = tuple([(2,1),(2,-1),(1,2),(-1,2),(-2,1),(-2,-1),(1,-2),(-1,-2)]) \n",
    "\n",
    "#simulate 100000 times when T = 16\n",
    "for i in range(100000):\n",
    "    while m < 16: \n",
    "        a,b = moves[random.randint(0,7)]\n",
    "        cor_a = cor_a + a\n",
    "        cor_b = cor_b + b\n",
    "        if cor_a > 3 or cor_b > 3 or cor_a < 0 or cor_b < 0:\n",
    "            cor_a = cor_a - a\n",
    "            cor_b = cor_b - b\n",
    "            continue\n",
    "        s = s + p[cor_a,cor_b]\n",
    "        m = m + 1\n",
    "    K.append(s)    \n",
    "    m = 0\n",
    "    s = 0\n",
    "    \n",
    "m13 = [i % 13 for i in K]  # list of S modulo 13\n",
    "mod13mean = np.mean(m13) # Mean of S modulo 13 (Answer1.1)\n",
    "std = np.std(m13) # Mean of S modulo 13 (Answer1.2)\n",
    "print ('%.10f' % mod13mean) #Answer1.1\n",
    "print ('%.10f' % std) #Answer1.2\n",
    " \n",
    "#Question 1.3 and 1.4\n",
    "\n",
    "#simulate 100000 times when T = 512\n",
    "\n",
    "cor_a,cor_b = 0\n",
    "for i in range(100000):\n",
    "    while m < 512: \n",
    "        a,b = moves[random.randint(0,7)]\n",
    "        cor_a = cor_a + a\n",
    "        cor_b = cor_b + b\n",
    "        if cor_a > 3 or cor_b > 3 or cor_a < 0 or cor_b < 0:\n",
    "            cor_a = cor_a - a\n",
    "            cor_b = cor_b - b\n",
    "            continue\n",
    "        s = s + p[cor_a,cor_b]\n",
    "        m = m + 1\n",
    "    K2.append(s)    \n",
    "    m = 0\n",
    "    s = 0\n",
    "    \n",
    "mean = np.mean(K2)\n",
    "m311 = [i % 311 for i in K2]\n",
    "mod311mean = np.mean(m311) # Mean of S modulo 311 (Answer1.3)\n",
    "std = np.std(m311) # Std of S modulo 311 (Answer1.4)\n",
    "\n",
    "print ('%.10f' % mod311mean)   #Answer1.3\n",
    "print ('%.10f' % std)  #Answer1.4\n",
    "\n",
    "#Question 1.5\n",
    "mod13,mod5_13 = 0,0\n",
    "for i in K:\n",
    "    if i % 13 == 0:\n",
    "        mod13 = mod13 +1\n",
    "        if i % 5 == 0:\n",
    "            mod5_13 = mod5_13 + 1\n",
    "pro5_13 = mod5_13/mod13 #Answer1.5\n",
    "print ('%.10f' % pro5_13) #Answer1.5\n",
    "\n",
    "#Question 1.6\n",
    "mod43,mod7_43 = 0,0\n",
    "for i in K2:\n",
    "    if i % 43 == 0:\n",
    "        mod43 = mod43 +1\n",
    "        if i % 7 == 0:\n",
    "            mod7_43 = mod7_43 + 1\n",
    "pro7_43 = mod7_43/mod43 #Answer1.6\n",
    "print ('%.10f' % pro7_43) #Answer1.6\n",
    "\n"
   ]
  }
 ],
 "metadata": {
  "kernelspec": {
   "display_name": "Python 3",
   "language": "python",
   "name": "python3"
  },
  "language_info": {
   "codemirror_mode": {
    "name": "ipython",
    "version": 3
   },
   "file_extension": ".py",
   "mimetype": "text/x-python",
   "name": "python",
   "nbconvert_exporter": "python",
   "pygments_lexer": "ipython3",
   "version": "3.6.2"
  }
 },
 "nbformat": 4,
 "nbformat_minor": 2
}
